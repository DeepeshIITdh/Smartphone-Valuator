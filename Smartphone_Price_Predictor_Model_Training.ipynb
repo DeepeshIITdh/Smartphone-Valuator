{
 "cells": [
  {
   "cell_type": "code",
   "execution_count": 54,
   "metadata": {
    "execution": {
     "iopub.execute_input": "2024-09-06T14:06:34.097465Z",
     "iopub.status.busy": "2024-09-06T14:06:34.096996Z",
     "iopub.status.idle": "2024-09-06T14:06:34.105130Z",
     "shell.execute_reply": "2024-09-06T14:06:34.104019Z",
     "shell.execute_reply.started": "2024-09-06T14:06:34.097419Z"
    }
   },
   "outputs": [],
   "source": [
    "import pandas as pd \n",
    "import numpy as np\n",
    "\n",
    "import pickle as pkl\n",
    "from sklearn.pipeline import Pipeline\n",
    "from sklearn.compose import ColumnTransformer\n",
    "from sklearn.model_selection import train_test_split, GridSearchCV, cross_val_score\n",
    "from sklearn.preprocessing import StandardScaler, OneHotEncoder\n",
    "from sklearn.linear_model import LinearRegression\n",
    "from sklearn.svm import SVR\n",
    "from sklearn.tree import DecisionTreeRegressor\n",
    "from sklearn.ensemble import GradientBoostingRegressor, RandomForestRegressor\n",
    "import xgboost as xgb\n",
    "from sklearn.metrics import r2_score, mean_squared_error, mean_absolute_error\n",
    "from sklearn.feature_selection import RFECV"
   ]
  },
  {
   "cell_type": "code",
   "execution_count": 2,
   "metadata": {
    "execution": {
     "iopub.execute_input": "2024-09-06T13:03:19.357767Z",
     "iopub.status.busy": "2024-09-06T13:03:19.356622Z",
     "iopub.status.idle": "2024-09-06T13:03:19.390164Z",
     "shell.execute_reply": "2024-09-06T13:03:19.388725Z",
     "shell.execute_reply.started": "2024-09-06T13:03:19.357717Z"
    }
   },
   "outputs": [],
   "source": [
    "# load the dataset\n",
    "df = pd.read_csv('smartphones.csv')"
   ]
  },
  {
   "cell_type": "code",
   "execution_count": 3,
   "metadata": {
    "execution": {
     "iopub.execute_input": "2024-09-06T13:03:20.637990Z",
     "iopub.status.busy": "2024-09-06T13:03:20.637532Z",
     "iopub.status.idle": "2024-09-06T13:03:20.646341Z",
     "shell.execute_reply": "2024-09-06T13:03:20.645187Z",
     "shell.execute_reply.started": "2024-09-06T13:03:20.637947Z"
    }
   },
   "outputs": [
    {
     "data": {
      "text/plain": [
       "(1009, 14)"
      ]
     },
     "execution_count": 3,
     "metadata": {},
     "output_type": "execute_result"
    }
   ],
   "source": [
    "df.shape"
   ]
  },
  {
   "cell_type": "code",
   "execution_count": 4,
   "metadata": {
    "execution": {
     "iopub.execute_input": "2024-09-06T13:03:22.324633Z",
     "iopub.status.busy": "2024-09-06T13:03:22.324182Z",
     "iopub.status.idle": "2024-09-06T13:03:22.357981Z",
     "shell.execute_reply": "2024-09-06T13:03:22.356885Z",
     "shell.execute_reply.started": "2024-09-06T13:03:22.324585Z"
    }
   },
   "outputs": [
    {
     "name": "stdout",
     "output_type": "stream",
     "text": [
      "<class 'pandas.core.frame.DataFrame'>\n",
      "RangeIndex: 1009 entries, 0 to 1008\n",
      "Data columns (total 14 columns):\n",
      " #   Column            Non-Null Count  Dtype  \n",
      "---  ------            --------------  -----  \n",
      " 0   brand             1009 non-null   object \n",
      " 1   processor_name    1009 non-null   object \n",
      " 2   processor_cores   1009 non-null   float64\n",
      " 3   processor_speed   1009 non-null   float64\n",
      " 4   os                1009 non-null   object \n",
      " 5   ram               1009 non-null   float64\n",
      " 6   storage           1009 non-null   float64\n",
      " 7   battery_capacity  1009 non-null   int64  \n",
      " 8   DualSim           1009 non-null   int64  \n",
      " 9   is_5G             1009 non-null   int64  \n",
      " 10  wifi              1009 non-null   int64  \n",
      " 11  ppi               1009 non-null   float64\n",
      " 12  camera            1009 non-null   float64\n",
      " 13  price             1009 non-null   int64  \n",
      "dtypes: float64(6), int64(5), object(3)\n",
      "memory usage: 110.5+ KB\n"
     ]
    }
   ],
   "source": [
    "df.info()"
   ]
  },
  {
   "cell_type": "code",
   "execution_count": 5,
   "metadata": {
    "execution": {
     "iopub.execute_input": "2024-09-06T13:03:25.438064Z",
     "iopub.status.busy": "2024-09-06T13:03:25.437199Z",
     "iopub.status.idle": "2024-09-06T13:03:25.447967Z",
     "shell.execute_reply": "2024-09-06T13:03:25.446827Z",
     "shell.execute_reply.started": "2024-09-06T13:03:25.438019Z"
    }
   },
   "outputs": [
    {
     "data": {
      "text/plain": [
       "brand               0\n",
       "processor_name      0\n",
       "processor_cores     0\n",
       "processor_speed     0\n",
       "os                  0\n",
       "ram                 0\n",
       "storage             0\n",
       "battery_capacity    0\n",
       "DualSim             0\n",
       "is_5G               0\n",
       "wifi                0\n",
       "ppi                 0\n",
       "camera              0\n",
       "price               0\n",
       "dtype: int64"
      ]
     },
     "execution_count": 5,
     "metadata": {},
     "output_type": "execute_result"
    }
   ],
   "source": [
    "df.isnull().sum()"
   ]
  },
  {
   "cell_type": "code",
   "execution_count": 6,
   "metadata": {
    "execution": {
     "iopub.execute_input": "2024-09-06T13:03:29.243506Z",
     "iopub.status.busy": "2024-09-06T13:03:29.242622Z",
     "iopub.status.idle": "2024-09-06T13:03:29.254113Z",
     "shell.execute_reply": "2024-09-06T13:03:29.253103Z",
     "shell.execute_reply.started": "2024-09-06T13:03:29.243456Z"
    }
   },
   "outputs": [
    {
     "data": {
      "text/plain": [
       "0"
      ]
     },
     "execution_count": 6,
     "metadata": {},
     "output_type": "execute_result"
    }
   ],
   "source": [
    "df.duplicated().sum()"
   ]
  },
  {
   "cell_type": "code",
   "execution_count": 7,
   "metadata": {
    "execution": {
     "iopub.execute_input": "2024-09-06T13:03:33.274820Z",
     "iopub.status.busy": "2024-09-06T13:03:33.273495Z",
     "iopub.status.idle": "2024-09-06T13:03:33.293395Z",
     "shell.execute_reply": "2024-09-06T13:03:33.292264Z",
     "shell.execute_reply.started": "2024-09-06T13:03:33.274744Z"
    }
   },
   "outputs": [],
   "source": [
    "# separating input variable and target variable \n",
    "X = df.drop(['price'],axis=1)\n",
    "y = df['price']\n",
    "X_train, X_test, y_train, y_test = train_test_split(X,y,test_size=0.15,random_state=42)\n",
    "\n",
    "# Categorical and numerical feature columns by index\n",
    "categorical_features_indices = [0,1,4]  \n",
    "numerical_features_indices = [2,3,5,6,7,8,9,10,11,12] \n",
    "\n",
    "# ColumnTransformer using column indices \n",
    "preprocessor = ColumnTransformer(\n",
    "    transformers=[\n",
    "        ('cat', OneHotEncoder(drop='first'), categorical_features_indices),\n",
    "        ('num', StandardScaler(), numerical_features_indices)\n",
    "    ],\n",
    "    remainder='passthrough' \n",
    ")"
   ]
  },
  {
   "cell_type": "markdown",
   "metadata": {},
   "source": [
    "### Linear Regression :"
   ]
  },
  {
   "cell_type": "code",
   "execution_count": 8,
   "metadata": {
    "execution": {
     "iopub.execute_input": "2024-09-06T13:03:37.184378Z",
     "iopub.status.busy": "2024-09-06T13:03:37.183625Z",
     "iopub.status.idle": "2024-09-06T13:03:37.459742Z",
     "shell.execute_reply": "2024-09-06T13:03:37.458775Z",
     "shell.execute_reply.started": "2024-09-06T13:03:37.184331Z"
    }
   },
   "outputs": [
    {
     "name": "stdout",
     "output_type": "stream",
     "text": [
      "0.7116221971294155\n",
      "-10082.498689719718\n"
     ]
    }
   ],
   "source": [
    "# Creating the pipeline with preprocessor and Linear Regression \n",
    "pipe = Pipeline(steps=[\n",
    "    ('preprocessor', preprocessor),\n",
    "    ('model', LinearRegression())\n",
    "])\n",
    "\n",
    "pipe.fit(X_train, y_train)\n",
    "y_pred = pipe.predict(X_test)\n",
    "lr = r2_score(y_test,y_pred)\n",
    "# print(lr)\n",
    "\n",
    "# calculating cross_val_score for accurate selection\n",
    "print(cross_val_score(pipe, X, y, cv=5, scoring='r2').mean())\n",
    "print(cross_val_score(pipe, X, y, cv=5, scoring='neg_mean_absolute_error').mean())"
   ]
  },
  {
   "cell_type": "markdown",
   "metadata": {},
   "source": [
    "### SVM :"
   ]
  },
  {
   "cell_type": "code",
   "execution_count": 9,
   "metadata": {
    "execution": {
     "iopub.execute_input": "2024-09-06T13:03:50.131421Z",
     "iopub.status.busy": "2024-09-06T13:03:50.130938Z",
     "iopub.status.idle": "2024-09-06T13:03:50.886824Z",
     "shell.execute_reply": "2024-09-06T13:03:50.885743Z",
     "shell.execute_reply.started": "2024-09-06T13:03:50.131379Z"
    }
   },
   "outputs": [
    {
     "name": "stdout",
     "output_type": "stream",
     "text": [
      "-0.1297004440778669\n",
      "-18045.845341820706\n"
     ]
    }
   ],
   "source": [
    "# Creating the pipeline with preprocessor and SVM \n",
    "pipe = Pipeline(steps=[\n",
    "    ('preprocessor', preprocessor),\n",
    "    ('model', SVR())\n",
    "])\n",
    "\n",
    "pipe.fit(X_train, y_train)\n",
    "y_pred = pipe.predict(X_test)\n",
    "svr = r2_score(y_test,y_pred)\n",
    "# print(svr)\n",
    "\n",
    "# calculating cross_val_score for accurate selection\n",
    "print(cross_val_score(pipe, X, y, cv=5, scoring='r2').mean())\n",
    "print(cross_val_score(pipe, X, y, cv=5, scoring='neg_mean_absolute_error').mean())"
   ]
  },
  {
   "cell_type": "markdown",
   "metadata": {},
   "source": [
    "### Decision Tree :"
   ]
  },
  {
   "cell_type": "code",
   "execution_count": 10,
   "metadata": {
    "execution": {
     "iopub.execute_input": "2024-09-06T13:03:54.635523Z",
     "iopub.status.busy": "2024-09-06T13:03:54.635123Z",
     "iopub.status.idle": "2024-09-06T13:03:54.855512Z",
     "shell.execute_reply": "2024-09-06T13:03:54.854272Z",
     "shell.execute_reply.started": "2024-09-06T13:03:54.635486Z"
    }
   },
   "outputs": [
    {
     "name": "stdout",
     "output_type": "stream",
     "text": [
      "0.7162251027729114\n",
      "-7833.17975997631\n"
     ]
    }
   ],
   "source": [
    "# Creating the pipeline with preprocessor and Decision Tree \n",
    "pipe = Pipeline(steps=[\n",
    "    ('preprocessor', preprocessor),\n",
    "    ('model', DecisionTreeRegressor(max_depth=9, min_samples_split=10))\n",
    "])\n",
    "\n",
    "pipe.fit(X_train, y_train)\n",
    "y_pred = pipe.predict(X_test)\n",
    "dt = r2_score(y_test,y_pred)\n",
    "# print(dt)\n",
    "\n",
    "# calculating cross_val_score for accurate selection\n",
    "print(cross_val_score(pipe, X, y, cv=5, scoring='r2').mean())\n",
    "print(cross_val_score(pipe, X, y, cv=5, scoring='neg_mean_absolute_error').mean())"
   ]
  },
  {
   "cell_type": "markdown",
   "metadata": {},
   "source": [
    "### Random Forest :"
   ]
  },
  {
   "cell_type": "code",
   "execution_count": 13,
   "metadata": {
    "execution": {
     "iopub.execute_input": "2024-09-06T13:04:31.034525Z",
     "iopub.status.busy": "2024-09-06T13:04:31.034069Z",
     "iopub.status.idle": "2024-09-06T13:04:36.201514Z",
     "shell.execute_reply": "2024-09-06T13:04:36.200384Z",
     "shell.execute_reply.started": "2024-09-06T13:04:31.034481Z"
    }
   },
   "outputs": [
    {
     "name": "stdout",
     "output_type": "stream",
     "text": [
      "0.8465784104147858\n",
      "-6108.592347157055\n"
     ]
    }
   ],
   "source": [
    "# Creating the pipeline with preprocessor and Random Forest\n",
    "pipe = Pipeline(steps=[\n",
    "    ('preprocessor', preprocessor),\n",
    "    ('model', RandomForestRegressor(n_estimators=100,max_depth=20,n_jobs=-1))\n",
    "])\n",
    "\n",
    "pipe.fit(X_train, y_train)\n",
    "y_pred = pipe.predict(X_test)\n",
    "rf = r2_score(y_test,y_pred)\n",
    "# print(rf)\n",
    "\n",
    "# calculating cross_val_score for accurate selection\n",
    "print(cross_val_score(pipe, X, y, cv=5, scoring='r2').mean())\n",
    "print(cross_val_score(pipe, X, y, cv=5, scoring='neg_mean_absolute_error').mean())"
   ]
  },
  {
   "cell_type": "markdown",
   "metadata": {},
   "source": [
    "### XGBoost :"
   ]
  },
  {
   "cell_type": "code",
   "execution_count": 12,
   "metadata": {
    "execution": {
     "iopub.execute_input": "2024-09-06T13:04:11.017028Z",
     "iopub.status.busy": "2024-09-06T13:04:11.016058Z",
     "iopub.status.idle": "2024-09-06T13:04:15.608939Z",
     "shell.execute_reply": "2024-09-06T13:04:15.607679Z",
     "shell.execute_reply.started": "2024-09-06T13:04:11.016970Z"
    }
   },
   "outputs": [
    {
     "name": "stdout",
     "output_type": "stream",
     "text": [
      "0.8229102476107893\n",
      "-6246.82784762782\n"
     ]
    }
   ],
   "source": [
    "# Creating the pipeline with preprocessor and XGBoost\n",
    "pipe = Pipeline(steps=[\n",
    "    ('preprocessor', preprocessor),\n",
    "    ('model', xgb.XGBRegressor(n_estimators=500))\n",
    "])\n",
    "\n",
    "pipe.fit(X_train, y_train)\n",
    "y_pred = pipe.predict(X_test)\n",
    "xgboost = r2_score(y_test,y_pred)\n",
    "# print(xgboost)\n",
    "\n",
    "# calculating cross_val_score for accurate selection\n",
    "print(cross_val_score(pipe, X, y, cv=5, scoring='r2').mean())\n",
    "print(cross_val_score(pipe, X, y, cv=5, scoring='neg_mean_absolute_error').mean())"
   ]
  },
  {
   "cell_type": "markdown",
   "metadata": {},
   "source": [
    "# Hyperparameter Tuning"
   ]
  },
  {
   "cell_type": "markdown",
   "metadata": {
    "execution": {
     "iopub.execute_input": "2024-09-05T17:32:38.256368Z",
     "iopub.status.busy": "2024-09-05T17:32:38.255829Z",
     "iopub.status.idle": "2024-09-05T17:32:38.263015Z",
     "shell.execute_reply": "2024-09-05T17:32:38.261590Z",
     "shell.execute_reply.started": "2024-09-05T17:32:38.256323Z"
    }
   },
   "source": [
    "### 1. Random Forest"
   ]
  },
  {
   "cell_type": "code",
   "execution_count": null,
   "metadata": {
    "execution": {
     "iopub.execute_input": "2024-09-05T17:35:17.933780Z",
     "iopub.status.busy": "2024-09-05T17:35:17.932663Z",
     "iopub.status.idle": "2024-09-05T17:48:07.097429Z",
     "shell.execute_reply": "2024-09-05T17:48:07.095884Z",
     "shell.execute_reply.started": "2024-09-05T17:35:17.933731Z"
    }
   },
   "outputs": [],
   "source": [
    "# Hyperparameter tuning with random forest\n",
    "param_grid = {\n",
    "    'model__n_estimators': [100, 300, 500],\n",
    "    'model__max_depth': [None, 5, 10, 20, 25, 30],\n",
    "    'model__min_samples_split': [2, 5, 10],\n",
    "    'model__min_samples_leaf': [1, 2, 4],\n",
    "    'model__bootstrap': [True, False]\n",
    "}\n",
    "\n",
    "pipe = Pipeline(steps=[\n",
    "    ('preprocessor', preprocessor),\n",
    "    ('model', RandomForestRegressor(random_state=42,n_jobs=-1))\n",
    "])\n",
    "\n",
    "grid = GridSearchCV(estimator=pipe, param_grid=param_grid, cv=5, n_jobs=-1)\n",
    "\n",
    "grid.fit(X_train, y_train)\n",
    "print(grid.best_params_)\n",
    "\n",
    "y_pred = grid.predict(X_test)\n",
    "\n",
    "print(r2_score(y_test, y_pred))"
   ]
  },
  {
   "cell_type": "markdown",
   "metadata": {
    "execution": {
     "iopub.execute_input": "2024-09-05T17:50:22.995759Z",
     "iopub.status.busy": "2024-09-05T17:50:22.995297Z",
     "iopub.status.idle": "2024-09-05T17:50:23.005113Z",
     "shell.execute_reply": "2024-09-05T17:50:23.003877Z",
     "shell.execute_reply.started": "2024-09-05T17:50:22.995715Z"
    }
   },
   "source": [
    "### 2. Decision Tree :"
   ]
  },
  {
   "cell_type": "code",
   "execution_count": null,
   "metadata": {
    "execution": {
     "iopub.execute_input": "2024-09-05T17:58:47.503492Z",
     "iopub.status.busy": "2024-09-05T17:58:47.502541Z",
     "iopub.status.idle": "2024-09-05T17:58:52.441090Z",
     "shell.execute_reply": "2024-09-05T17:58:52.439877Z",
     "shell.execute_reply.started": "2024-09-05T17:58:47.503445Z"
    }
   },
   "outputs": [],
   "source": [
    "# Hyperparameter tuning with random forest\n",
    "param_grid = {\n",
    "            'model__max_depth': [None, 5, 8, 9, 10, 20, 30],\n",
    "            'model__min_samples_split': [2, 10, 15, 20],\n",
    "            'model__min_samples_leaf': [1, 2, 3, 4, 5],\n",
    "}\n",
    "\n",
    "pipe = Pipeline(steps=[\n",
    "    ('preprocessor', preprocessor),\n",
    "    ('model', DecisionTreeRegressor())\n",
    "])\n",
    "\n",
    "grid = GridSearchCV(estimator=pipe, param_grid=param_grid, cv=5, n_jobs=-1)\n",
    "\n",
    "grid.fit(X_train, y_train)\n",
    "print(grid.best_params_)\n",
    "\n",
    "y_pred = grid.predict(X_test)\n",
    "\n",
    "print(r2_score(y_test, y_pred))"
   ]
  },
  {
   "cell_type": "markdown",
   "metadata": {},
   "source": [
    "# Dimensionality Reduction "
   ]
  },
  {
   "cell_type": "markdown",
   "metadata": {},
   "source": [
    "### Using Random_Forest_feature_importance :"
   ]
  },
  {
   "cell_type": "code",
   "execution_count": 14,
   "metadata": {
    "execution": {
     "iopub.execute_input": "2024-09-06T13:04:41.841794Z",
     "iopub.status.busy": "2024-09-06T13:04:41.841335Z",
     "iopub.status.idle": "2024-09-06T13:04:41.862986Z",
     "shell.execute_reply": "2024-09-06T13:04:41.861740Z",
     "shell.execute_reply.started": "2024-09-06T13:04:41.841750Z"
    }
   },
   "outputs": [
    {
     "name": "stdout",
     "output_type": "stream",
     "text": [
      "Pipeline(steps=[('preprocessor',\n",
      "                 ColumnTransformer(remainder='passthrough',\n",
      "                                   transformers=[('cat',\n",
      "                                                  OneHotEncoder(drop='first'),\n",
      "                                                  [0, 1, 4]),\n",
      "                                                 ('num', StandardScaler(),\n",
      "                                                  [2, 3, 5, 6, 7, 8, 9, 10, 11,\n",
      "                                                   12])])),\n",
      "                ('model', RandomForestRegressor(max_depth=20, n_jobs=-1))])\n"
     ]
    }
   ],
   "source": [
    "print(pipe)"
   ]
  },
  {
   "cell_type": "code",
   "execution_count": 15,
   "metadata": {
    "execution": {
     "iopub.execute_input": "2024-09-06T13:05:07.780512Z",
     "iopub.status.busy": "2024-09-06T13:05:07.780087Z",
     "iopub.status.idle": "2024-09-06T13:05:07.826861Z",
     "shell.execute_reply": "2024-09-06T13:05:07.825820Z",
     "shell.execute_reply.started": "2024-09-06T13:05:07.780474Z"
    }
   },
   "outputs": [],
   "source": [
    "model = pipe.named_steps['model']\n",
    "features_imp = model.feature_importances_\n",
    "\n",
    "preprocessor = pipe.named_steps['preprocessor']\n",
    "features_names = preprocessor.get_feature_names_out()\n",
    "\n",
    "# Creating a DataFrame to display feature importances with corresponding feature names\n",
    "importance_df = pd.DataFrame({\n",
    "    'Feature': features_names,\n",
    "    'Importance': features_imp\n",
    "}).sort_values(by='Importance', ascending=False)\n",
    "\n",
    "# importance_df"
   ]
  },
  {
   "cell_type": "code",
   "execution_count": 49,
   "metadata": {
    "execution": {
     "iopub.execute_input": "2024-09-06T14:04:48.329288Z",
     "iopub.status.busy": "2024-09-06T14:04:48.328784Z",
     "iopub.status.idle": "2024-09-06T14:04:48.351785Z",
     "shell.execute_reply": "2024-09-06T14:04:48.350540Z",
     "shell.execute_reply.started": "2024-09-06T14:04:48.329240Z"
    }
   },
   "outputs": [
    {
     "data": {
      "text/html": [
       "<div>\n",
       "<style scoped>\n",
       "    .dataframe tbody tr th:only-of-type {\n",
       "        vertical-align: middle;\n",
       "    }\n",
       "\n",
       "    .dataframe tbody tr th {\n",
       "        vertical-align: top;\n",
       "    }\n",
       "\n",
       "    .dataframe thead th {\n",
       "        text-align: right;\n",
       "    }\n",
       "</style>\n",
       "<table border=\"1\" class=\"dataframe\">\n",
       "  <thead>\n",
       "    <tr style=\"text-align: right;\">\n",
       "      <th></th>\n",
       "      <th>brand</th>\n",
       "      <th>processor_cores</th>\n",
       "      <th>processor_speed</th>\n",
       "      <th>os</th>\n",
       "      <th>ram</th>\n",
       "      <th>storage</th>\n",
       "      <th>battery_capacity</th>\n",
       "      <th>DualSim</th>\n",
       "      <th>is_5G</th>\n",
       "      <th>ppi</th>\n",
       "      <th>camera</th>\n",
       "      <th>price</th>\n",
       "    </tr>\n",
       "  </thead>\n",
       "  <tbody>\n",
       "    <tr>\n",
       "      <th>0</th>\n",
       "      <td>OnePlus</td>\n",
       "      <td>8.0</td>\n",
       "      <td>3.2</td>\n",
       "      <td>Android</td>\n",
       "      <td>12.0</td>\n",
       "      <td>256.0</td>\n",
       "      <td>5000</td>\n",
       "      <td>1</td>\n",
       "      <td>1</td>\n",
       "      <td>525.921017</td>\n",
       "      <td>66.0</td>\n",
       "      <td>54999</td>\n",
       "    </tr>\n",
       "    <tr>\n",
       "      <th>1</th>\n",
       "      <td>OnePlus</td>\n",
       "      <td>8.0</td>\n",
       "      <td>2.2</td>\n",
       "      <td>Android</td>\n",
       "      <td>6.0</td>\n",
       "      <td>128.0</td>\n",
       "      <td>5000</td>\n",
       "      <td>1</td>\n",
       "      <td>1</td>\n",
       "      <td>401.024751</td>\n",
       "      <td>80.0</td>\n",
       "      <td>19989</td>\n",
       "    </tr>\n",
       "    <tr>\n",
       "      <th>2</th>\n",
       "      <td>Samsung</td>\n",
       "      <td>8.0</td>\n",
       "      <td>2.4</td>\n",
       "      <td>Android</td>\n",
       "      <td>4.0</td>\n",
       "      <td>64.0</td>\n",
       "      <td>5000</td>\n",
       "      <td>1</td>\n",
       "      <td>1</td>\n",
       "      <td>399.864072</td>\n",
       "      <td>63.0</td>\n",
       "      <td>16499</td>\n",
       "    </tr>\n",
       "    <tr>\n",
       "      <th>3</th>\n",
       "      <td>Motorola</td>\n",
       "      <td>8.0</td>\n",
       "      <td>2.2</td>\n",
       "      <td>Android</td>\n",
       "      <td>6.0</td>\n",
       "      <td>128.0</td>\n",
       "      <td>5000</td>\n",
       "      <td>1</td>\n",
       "      <td>1</td>\n",
       "      <td>401.802361</td>\n",
       "      <td>66.0</td>\n",
       "      <td>14999</td>\n",
       "    </tr>\n",
       "    <tr>\n",
       "      <th>4</th>\n",
       "      <td>Realme</td>\n",
       "      <td>8.0</td>\n",
       "      <td>2.6</td>\n",
       "      <td>Android</td>\n",
       "      <td>6.0</td>\n",
       "      <td>128.0</td>\n",
       "      <td>5000</td>\n",
       "      <td>1</td>\n",
       "      <td>1</td>\n",
       "      <td>394.440763</td>\n",
       "      <td>124.0</td>\n",
       "      <td>24999</td>\n",
       "    </tr>\n",
       "  </tbody>\n",
       "</table>\n",
       "</div>"
      ],
      "text/plain": [
       "      brand  processor_cores  processor_speed       os   ram  storage  \\\n",
       "0   OnePlus              8.0              3.2  Android  12.0    256.0   \n",
       "1   OnePlus              8.0              2.2  Android   6.0    128.0   \n",
       "2   Samsung              8.0              2.4  Android   4.0     64.0   \n",
       "3  Motorola              8.0              2.2  Android   6.0    128.0   \n",
       "4    Realme              8.0              2.6  Android   6.0    128.0   \n",
       "\n",
       "   battery_capacity  DualSim  is_5G         ppi  camera  price  \n",
       "0              5000        1      1  525.921017    66.0  54999  \n",
       "1              5000        1      1  401.024751    80.0  19989  \n",
       "2              5000        1      1  399.864072    63.0  16499  \n",
       "3              5000        1      1  401.802361    66.0  14999  \n",
       "4              5000        1      1  394.440763   124.0  24999  "
      ]
     },
     "execution_count": 49,
     "metadata": {},
     "output_type": "execute_result"
    }
   ],
   "source": [
    "# removing unimportant columns ---> wifi, processor_name\n",
    "new_df = df.drop(['processor_name','wifi'],axis=1)\n",
    "\n",
    "new_df.head()"
   ]
  },
  {
   "cell_type": "code",
   "execution_count": 50,
   "metadata": {
    "execution": {
     "iopub.execute_input": "2024-09-06T14:04:51.397182Z",
     "iopub.status.busy": "2024-09-06T14:04:51.396365Z",
     "iopub.status.idle": "2024-09-06T14:04:51.404443Z",
     "shell.execute_reply": "2024-09-06T14:04:51.403202Z",
     "shell.execute_reply.started": "2024-09-06T14:04:51.397129Z"
    }
   },
   "outputs": [
    {
     "data": {
      "text/plain": [
       "(1009, 12)"
      ]
     },
     "execution_count": 50,
     "metadata": {},
     "output_type": "execute_result"
    }
   ],
   "source": [
    "new_df.shape"
   ]
  },
  {
   "cell_type": "code",
   "execution_count": 51,
   "metadata": {
    "execution": {
     "iopub.execute_input": "2024-09-06T14:05:02.342400Z",
     "iopub.status.busy": "2024-09-06T14:05:02.341893Z",
     "iopub.status.idle": "2024-09-06T14:05:02.354679Z",
     "shell.execute_reply": "2024-09-06T14:05:02.353546Z",
     "shell.execute_reply.started": "2024-09-06T14:05:02.342347Z"
    }
   },
   "outputs": [],
   "source": [
    "# separating input variable and target variable \n",
    "X = new_df.drop(['price'],axis=1)\n",
    "y = new_df['price']\n",
    "X_train, X_test, y_train, y_test = train_test_split(X,y,test_size=0.15,random_state=42)\n",
    "\n",
    "# Categorical and numerical feature columns by index\n",
    "categorical_features_indices = [0,3]  \n",
    "numerical_features_indices = [1,2,4,5,6,7,8,9,10] \n",
    "\n",
    "# ColumnTransformer using column indices \n",
    "preprocessor = ColumnTransformer(\n",
    "    transformers=[\n",
    "        ('cat', OneHotEncoder(drop='first'), categorical_features_indices),\n",
    "        ('num', StandardScaler(), numerical_features_indices)\n",
    "    ],\n",
    "    remainder='passthrough' \n",
    ")"
   ]
  },
  {
   "cell_type": "code",
   "execution_count": 52,
   "metadata": {
    "execution": {
     "iopub.execute_input": "2024-09-06T14:05:03.991900Z",
     "iopub.status.busy": "2024-09-06T14:05:03.990877Z",
     "iopub.status.idle": "2024-09-06T14:05:08.426215Z",
     "shell.execute_reply": "2024-09-06T14:05:08.424933Z",
     "shell.execute_reply.started": "2024-09-06T14:05:03.991851Z"
    }
   },
   "outputs": [
    {
     "name": "stdout",
     "output_type": "stream",
     "text": [
      "0.8439371277711121\n",
      "-6152.864966138128\n"
     ]
    }
   ],
   "source": [
    "# Creating the pipeline with preprocessor and Random Forest\n",
    "pipe = Pipeline(steps=[\n",
    "    ('preprocessor', preprocessor),\n",
    "    ('model', RandomForestRegressor(n_estimators=100,max_depth=20,n_jobs=-1))\n",
    "])\n",
    "\n",
    "pipe.fit(X_train, y_train)\n",
    "y_pred = pipe.predict(X_test)\n",
    "rf = r2_score(y_test,y_pred)\n",
    "# print(rf)\n",
    "\n",
    "# calculating cross_val_score for accurate selection\n",
    "print(cross_val_score(pipe, X, y, cv=5, scoring='r2').mean())\n",
    "print(cross_val_score(pipe, X, y, cv=5, scoring='neg_mean_absolute_error').mean())"
   ]
  },
  {
   "cell_type": "code",
   "execution_count": 53,
   "metadata": {
    "execution": {
     "iopub.execute_input": "2024-09-06T14:06:08.192150Z",
     "iopub.status.busy": "2024-09-06T14:06:08.191636Z",
     "iopub.status.idle": "2024-09-06T14:06:08.232304Z",
     "shell.execute_reply": "2024-09-06T14:06:08.230894Z",
     "shell.execute_reply.started": "2024-09-06T14:06:08.192100Z"
    }
   },
   "outputs": [
    {
     "data": {
      "text/html": [
       "<style>#sk-container-id-1 {color: black;background-color: white;}#sk-container-id-1 pre{padding: 0;}#sk-container-id-1 div.sk-toggleable {background-color: white;}#sk-container-id-1 label.sk-toggleable__label {cursor: pointer;display: block;width: 100%;margin-bottom: 0;padding: 0.3em;box-sizing: border-box;text-align: center;}#sk-container-id-1 label.sk-toggleable__label-arrow:before {content: \"▸\";float: left;margin-right: 0.25em;color: #696969;}#sk-container-id-1 label.sk-toggleable__label-arrow:hover:before {color: black;}#sk-container-id-1 div.sk-estimator:hover label.sk-toggleable__label-arrow:before {color: black;}#sk-container-id-1 div.sk-toggleable__content {max-height: 0;max-width: 0;overflow: hidden;text-align: left;background-color: #f0f8ff;}#sk-container-id-1 div.sk-toggleable__content pre {margin: 0.2em;color: black;border-radius: 0.25em;background-color: #f0f8ff;}#sk-container-id-1 input.sk-toggleable__control:checked~div.sk-toggleable__content {max-height: 200px;max-width: 100%;overflow: auto;}#sk-container-id-1 input.sk-toggleable__control:checked~label.sk-toggleable__label-arrow:before {content: \"▾\";}#sk-container-id-1 div.sk-estimator input.sk-toggleable__control:checked~label.sk-toggleable__label {background-color: #d4ebff;}#sk-container-id-1 div.sk-label input.sk-toggleable__control:checked~label.sk-toggleable__label {background-color: #d4ebff;}#sk-container-id-1 input.sk-hidden--visually {border: 0;clip: rect(1px 1px 1px 1px);clip: rect(1px, 1px, 1px, 1px);height: 1px;margin: -1px;overflow: hidden;padding: 0;position: absolute;width: 1px;}#sk-container-id-1 div.sk-estimator {font-family: monospace;background-color: #f0f8ff;border: 1px dotted black;border-radius: 0.25em;box-sizing: border-box;margin-bottom: 0.5em;}#sk-container-id-1 div.sk-estimator:hover {background-color: #d4ebff;}#sk-container-id-1 div.sk-parallel-item::after {content: \"\";width: 100%;border-bottom: 1px solid gray;flex-grow: 1;}#sk-container-id-1 div.sk-label:hover label.sk-toggleable__label {background-color: #d4ebff;}#sk-container-id-1 div.sk-serial::before {content: \"\";position: absolute;border-left: 1px solid gray;box-sizing: border-box;top: 0;bottom: 0;left: 50%;z-index: 0;}#sk-container-id-1 div.sk-serial {display: flex;flex-direction: column;align-items: center;background-color: white;padding-right: 0.2em;padding-left: 0.2em;position: relative;}#sk-container-id-1 div.sk-item {position: relative;z-index: 1;}#sk-container-id-1 div.sk-parallel {display: flex;align-items: stretch;justify-content: center;background-color: white;position: relative;}#sk-container-id-1 div.sk-item::before, #sk-container-id-1 div.sk-parallel-item::before {content: \"\";position: absolute;border-left: 1px solid gray;box-sizing: border-box;top: 0;bottom: 0;left: 50%;z-index: -1;}#sk-container-id-1 div.sk-parallel-item {display: flex;flex-direction: column;z-index: 1;position: relative;background-color: white;}#sk-container-id-1 div.sk-parallel-item:first-child::after {align-self: flex-end;width: 50%;}#sk-container-id-1 div.sk-parallel-item:last-child::after {align-self: flex-start;width: 50%;}#sk-container-id-1 div.sk-parallel-item:only-child::after {width: 0;}#sk-container-id-1 div.sk-dashed-wrapped {border: 1px dashed gray;margin: 0 0.4em 0.5em 0.4em;box-sizing: border-box;padding-bottom: 0.4em;background-color: white;}#sk-container-id-1 div.sk-label label {font-family: monospace;font-weight: bold;display: inline-block;line-height: 1.2em;}#sk-container-id-1 div.sk-label-container {text-align: center;}#sk-container-id-1 div.sk-container {/* jupyter's `normalize.less` sets `[hidden] { display: none; }` but bootstrap.min.css set `[hidden] { display: none !important; }` so we also need the `!important` here to be able to override the default hidden behavior on the sphinx rendered scikit-learn.org. See: https://github.com/scikit-learn/scikit-learn/issues/21755 */display: inline-block !important;position: relative;}#sk-container-id-1 div.sk-text-repr-fallback {display: none;}</style><div id=\"sk-container-id-1\" class=\"sk-top-container\"><div class=\"sk-text-repr-fallback\"><pre>Pipeline(steps=[(&#x27;preprocessor&#x27;,\n",
       "                 ColumnTransformer(remainder=&#x27;passthrough&#x27;,\n",
       "                                   transformers=[(&#x27;cat&#x27;,\n",
       "                                                  OneHotEncoder(drop=&#x27;first&#x27;),\n",
       "                                                  [0, 3]),\n",
       "                                                 (&#x27;num&#x27;, StandardScaler(),\n",
       "                                                  [1, 2, 4, 5, 6, 7, 8, 9,\n",
       "                                                   10])])),\n",
       "                (&#x27;model&#x27;, RandomForestRegressor(max_depth=20, n_jobs=-1))])</pre><b>In a Jupyter environment, please rerun this cell to show the HTML representation or trust the notebook. <br />On GitHub, the HTML representation is unable to render, please try loading this page with nbviewer.org.</b></div><div class=\"sk-container\" hidden><div class=\"sk-item sk-dashed-wrapped\"><div class=\"sk-label-container\"><div class=\"sk-label sk-toggleable\"><input class=\"sk-toggleable__control sk-hidden--visually\" id=\"sk-estimator-id-1\" type=\"checkbox\" ><label for=\"sk-estimator-id-1\" class=\"sk-toggleable__label sk-toggleable__label-arrow\">Pipeline</label><div class=\"sk-toggleable__content\"><pre>Pipeline(steps=[(&#x27;preprocessor&#x27;,\n",
       "                 ColumnTransformer(remainder=&#x27;passthrough&#x27;,\n",
       "                                   transformers=[(&#x27;cat&#x27;,\n",
       "                                                  OneHotEncoder(drop=&#x27;first&#x27;),\n",
       "                                                  [0, 3]),\n",
       "                                                 (&#x27;num&#x27;, StandardScaler(),\n",
       "                                                  [1, 2, 4, 5, 6, 7, 8, 9,\n",
       "                                                   10])])),\n",
       "                (&#x27;model&#x27;, RandomForestRegressor(max_depth=20, n_jobs=-1))])</pre></div></div></div><div class=\"sk-serial\"><div class=\"sk-item sk-dashed-wrapped\"><div class=\"sk-label-container\"><div class=\"sk-label sk-toggleable\"><input class=\"sk-toggleable__control sk-hidden--visually\" id=\"sk-estimator-id-2\" type=\"checkbox\" ><label for=\"sk-estimator-id-2\" class=\"sk-toggleable__label sk-toggleable__label-arrow\">preprocessor: ColumnTransformer</label><div class=\"sk-toggleable__content\"><pre>ColumnTransformer(remainder=&#x27;passthrough&#x27;,\n",
       "                  transformers=[(&#x27;cat&#x27;, OneHotEncoder(drop=&#x27;first&#x27;), [0, 3]),\n",
       "                                (&#x27;num&#x27;, StandardScaler(),\n",
       "                                 [1, 2, 4, 5, 6, 7, 8, 9, 10])])</pre></div></div></div><div class=\"sk-parallel\"><div class=\"sk-parallel-item\"><div class=\"sk-item\"><div class=\"sk-label-container\"><div class=\"sk-label sk-toggleable\"><input class=\"sk-toggleable__control sk-hidden--visually\" id=\"sk-estimator-id-3\" type=\"checkbox\" ><label for=\"sk-estimator-id-3\" class=\"sk-toggleable__label sk-toggleable__label-arrow\">cat</label><div class=\"sk-toggleable__content\"><pre>[0, 3]</pre></div></div></div><div class=\"sk-serial\"><div class=\"sk-item\"><div class=\"sk-estimator sk-toggleable\"><input class=\"sk-toggleable__control sk-hidden--visually\" id=\"sk-estimator-id-4\" type=\"checkbox\" ><label for=\"sk-estimator-id-4\" class=\"sk-toggleable__label sk-toggleable__label-arrow\">OneHotEncoder</label><div class=\"sk-toggleable__content\"><pre>OneHotEncoder(drop=&#x27;first&#x27;)</pre></div></div></div></div></div></div><div class=\"sk-parallel-item\"><div class=\"sk-item\"><div class=\"sk-label-container\"><div class=\"sk-label sk-toggleable\"><input class=\"sk-toggleable__control sk-hidden--visually\" id=\"sk-estimator-id-5\" type=\"checkbox\" ><label for=\"sk-estimator-id-5\" class=\"sk-toggleable__label sk-toggleable__label-arrow\">num</label><div class=\"sk-toggleable__content\"><pre>[1, 2, 4, 5, 6, 7, 8, 9, 10]</pre></div></div></div><div class=\"sk-serial\"><div class=\"sk-item\"><div class=\"sk-estimator sk-toggleable\"><input class=\"sk-toggleable__control sk-hidden--visually\" id=\"sk-estimator-id-6\" type=\"checkbox\" ><label for=\"sk-estimator-id-6\" class=\"sk-toggleable__label sk-toggleable__label-arrow\">StandardScaler</label><div class=\"sk-toggleable__content\"><pre>StandardScaler()</pre></div></div></div></div></div></div><div class=\"sk-parallel-item\"><div class=\"sk-item\"><div class=\"sk-label-container\"><div class=\"sk-label sk-toggleable\"><input class=\"sk-toggleable__control sk-hidden--visually\" id=\"sk-estimator-id-7\" type=\"checkbox\" ><label for=\"sk-estimator-id-7\" class=\"sk-toggleable__label sk-toggleable__label-arrow\">remainder</label><div class=\"sk-toggleable__content\"><pre>[]</pre></div></div></div><div class=\"sk-serial\"><div class=\"sk-item\"><div class=\"sk-estimator sk-toggleable\"><input class=\"sk-toggleable__control sk-hidden--visually\" id=\"sk-estimator-id-8\" type=\"checkbox\" ><label for=\"sk-estimator-id-8\" class=\"sk-toggleable__label sk-toggleable__label-arrow\">passthrough</label><div class=\"sk-toggleable__content\"><pre>passthrough</pre></div></div></div></div></div></div></div></div><div class=\"sk-item\"><div class=\"sk-estimator sk-toggleable\"><input class=\"sk-toggleable__control sk-hidden--visually\" id=\"sk-estimator-id-9\" type=\"checkbox\" ><label for=\"sk-estimator-id-9\" class=\"sk-toggleable__label sk-toggleable__label-arrow\">RandomForestRegressor</label><div class=\"sk-toggleable__content\"><pre>RandomForestRegressor(max_depth=20, n_jobs=-1)</pre></div></div></div></div></div></div></div>"
      ],
      "text/plain": [
       "Pipeline(steps=[('preprocessor',\n",
       "                 ColumnTransformer(remainder='passthrough',\n",
       "                                   transformers=[('cat',\n",
       "                                                  OneHotEncoder(drop='first'),\n",
       "                                                  [0, 3]),\n",
       "                                                 ('num', StandardScaler(),\n",
       "                                                  [1, 2, 4, 5, 6, 7, 8, 9,\n",
       "                                                   10])])),\n",
       "                ('model', RandomForestRegressor(max_depth=20, n_jobs=-1))])"
      ]
     },
     "execution_count": 53,
     "metadata": {},
     "output_type": "execute_result"
    }
   ],
   "source": [
    "pipe"
   ]
  },
  {
   "cell_type": "code",
   "execution_count": 56,
   "metadata": {
    "execution": {
     "iopub.execute_input": "2024-09-06T14:09:05.898275Z",
     "iopub.status.busy": "2024-09-06T14:09:05.897789Z",
     "iopub.status.idle": "2024-09-06T14:09:05.904831Z",
     "shell.execute_reply": "2024-09-06T14:09:05.903599Z",
     "shell.execute_reply.started": "2024-09-06T14:09:05.898230Z"
    }
   },
   "outputs": [],
   "source": [
    "req_df = df[['brand','os']]"
   ]
  },
  {
   "cell_type": "code",
   "execution_count": 58,
   "metadata": {
    "execution": {
     "iopub.execute_input": "2024-09-06T14:13:06.764356Z",
     "iopub.status.busy": "2024-09-06T14:13:06.763874Z",
     "iopub.status.idle": "2024-09-06T14:13:06.788746Z",
     "shell.execute_reply": "2024-09-06T14:13:06.787668Z",
     "shell.execute_reply.started": "2024-09-06T14:13:06.764311Z"
    }
   },
   "outputs": [],
   "source": [
    "# getting pipeline and df\n",
    "with open('pipe.pkl', 'wb') as file:\n",
    "    pkl.dump(pipe, file)\n",
    "with open('data.pkl', 'wb') as file:\n",
    "    pkl.dump(req_df, file)"
   ]
  },
  {
   "cell_type": "code",
   "execution_count": null,
   "metadata": {},
   "outputs": [],
   "source": []
  }
 ],
 "metadata": {
  "kaggle": {
   "accelerator": "none",
   "dataSources": [
    {
     "datasetId": 5650514,
     "sourceId": 9326757,
     "sourceType": "datasetVersion"
    }
   ],
   "dockerImageVersionId": 30761,
   "isGpuEnabled": false,
   "isInternetEnabled": true,
   "language": "python",
   "sourceType": "notebook"
  },
  "kernelspec": {
   "display_name": "Python 3 (ipykernel)",
   "language": "python",
   "name": "python3"
  },
  "language_info": {
   "codemirror_mode": {
    "name": "ipython",
    "version": 3
   },
   "file_extension": ".py",
   "mimetype": "text/x-python",
   "name": "python",
   "nbconvert_exporter": "python",
   "pygments_lexer": "ipython3",
   "version": "3.11.5"
  }
 },
 "nbformat": 4,
 "nbformat_minor": 4
}
